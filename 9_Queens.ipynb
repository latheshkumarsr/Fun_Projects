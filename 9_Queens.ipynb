{
  "nbformat": 4,
  "nbformat_minor": 0,
  "metadata": {
    "colab": {
      "provenance": [],
      "authorship_tag": "ABX9TyP5H2j7aLp0Iz8KZAfWK0wB",
      "include_colab_link": true
    },
    "kernelspec": {
      "name": "python3",
      "display_name": "Python 3"
    },
    "language_info": {
      "name": "python"
    }
  },
  "cells": [
    {
      "cell_type": "markdown",
      "metadata": {
        "id": "view-in-github",
        "colab_type": "text"
      },
      "source": [
        "<a href=\"https://colab.research.google.com/github/latheshkumarsr/Fun_Projects/blob/main/9_Queens.ipynb\" target=\"_parent\"><img src=\"https://colab.research.google.com/assets/colab-badge.svg\" alt=\"Open In Colab\"/></a>"
      ]
    },
    {
      "cell_type": "code",
      "metadata": {
        "id": "94847adc"
      },
      "source": [
        "board_size = 9\n",
        "board = [[0 for _ in range(board_size)] for _ in range(board_size)]"
      ],
      "execution_count": null,
      "outputs": []
    },
    {
      "cell_type": "code",
      "metadata": {
        "id": "ce501ebb"
      },
      "source": [
        "def is_safe(board, row, col):\n",
        "    \"\"\"\n",
        "    Checks if placing a queen at board[row][col] is safe.\n",
        "\n",
        "    Args:\n",
        "        board: The current chessboard represented as a 2D list.\n",
        "        row: The row index.\n",
        "        col: The column index.\n",
        "\n",
        "    Returns:\n",
        "        True if the position is safe, False otherwise.\n",
        "    \"\"\"\n",
        "    # Check this row to the left of the current column\n",
        "    for i in range(col):\n",
        "        if board[row][i] == 1:\n",
        "            return False\n",
        "\n",
        "    # Check this column above the current row - This check is implicitly handled by placing queens column by column\n",
        "    # for i in range(row):\n",
        "    #     if board[i][col] == 1:\n",
        "    #         return False\n",
        "\n",
        "    # Check upper left diagonal\n",
        "    for i, j in zip(range(row, -1, -1), range(col, -1, -1)):\n",
        "        if board[i][j] == 1:\n",
        "            return False\n",
        "\n",
        "    # Check lower left diagonal\n",
        "    for i, j in zip(range(row, board_size), range(col, -1, -1)):\n",
        "        if board[i][j] == 1:\n",
        "            return False\n",
        "\n",
        "\n",
        "    return True"
      ],
      "execution_count": null,
      "outputs": []
    },
    {
      "cell_type": "code",
      "metadata": {
        "id": "8a998110"
      },
      "source": [
        "def solve_nqueens_util(board, col):\n",
        "    \"\"\"\n",
        "    Recursive utility function to solve the N-Queens problem.\n",
        "\n",
        "    Args:\n",
        "        board: The current chessboard represented as a 2D list.\n",
        "        col: The current column index being considered.\n",
        "\n",
        "    Returns:\n",
        "        True if a solution is found, False otherwise.\n",
        "    \"\"\"\n",
        "    # Base case: If all columns are filled, a solution is found\n",
        "    if col >= board_size:\n",
        "        return True\n",
        "\n",
        "    # Consider each row in the current column\n",
        "    for i in range(board_size):\n",
        "        # Check if placing a queen at board[i][col] is safe\n",
        "        if is_safe(board, i, col):\n",
        "            # Place the queen\n",
        "            board[i][col] = 1\n",
        "\n",
        "            # Recursively call for the next column\n",
        "            if solve_nqueens_util(board, col + 1):\n",
        "                return True\n",
        "\n",
        "            # If placing queen here doesn't lead to a solution, backtrack\n",
        "            board[i][col] = 0\n",
        "\n",
        "    # If no row in this column leads to a solution, return False\n",
        "    return False\n",
        "\n",
        "def solve_nqueens():\n",
        "    \"\"\"\n",
        "    Main function to solve the N-Queens problem.\n",
        "\n",
        "    Returns:\n",
        "        The solved board (2D list) if a solution exists, otherwise None.\n",
        "    \"\"\"\n",
        "    # Initialize an empty board\n",
        "    board = [[0 for _ in range(board_size)] for _ in range(board_size)]\n",
        "\n",
        "    # Start solving from the first column (column 0)\n",
        "    if solve_nqueens_util(board, 0):\n",
        "        return board\n",
        "    else:\n",
        "        return None\n"
      ],
      "execution_count": null,
      "outputs": []
    },
    {
      "cell_type": "code",
      "metadata": {
        "colab": {
          "base_uri": "https://localhost:8080/"
        },
        "id": "c67e613a",
        "outputId": "81ff14d2-5266-4074-dfa5-85e3f108908f"
      },
      "source": [
        "solution_board = solve_nqueens()\n",
        "\n",
        "if solution_board is not None:\n",
        "    print(\"Solution found:\")\n",
        "    for row in solution_board:\n",
        "        print(\" \".join([\"Q\" if cell == 1 else \".\" for cell in row]))\n",
        "    print(\"-\" * (board_size * 2 - 1)) # Print a separating line\n",
        "else:\n",
        "    print(\"No solution exists\")\n"
      ],
      "execution_count": null,
      "outputs": [
        {
          "output_type": "stream",
          "name": "stdout",
          "text": [
            "Solution found:\n",
            "Q . . . . . . . .\n",
            ". . . . Q . . . .\n",
            ". Q . . . . . . .\n",
            ". . . . . Q . . .\n",
            ". . . . . . . . Q\n",
            ". . Q . . . . . .\n",
            ". . . . . . . Q .\n",
            ". . . Q . . . . .\n",
            ". . . . . . Q . .\n",
            "-----------------\n"
          ]
        }
      ]
    }
  ]
}