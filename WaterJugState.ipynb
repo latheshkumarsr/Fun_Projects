{
  "nbformat": 4,
  "nbformat_minor": 0,
  "metadata": {
    "colab": {
      "provenance": [],
      "toc_visible": true,
      "authorship_tag": "ABX9TyN/04mjOmb+T4Z8JLz+j5Cf",
      "include_colab_link": true
    },
    "kernelspec": {
      "name": "python3",
      "display_name": "Python 3"
    },
    "language_info": {
      "name": "python"
    }
  },
  "cells": [
    {
      "cell_type": "markdown",
      "metadata": {
        "id": "view-in-github",
        "colab_type": "text"
      },
      "source": [
        "<a href=\"https://colab.research.google.com/github/latheshkumarsr/Fun_Projects/blob/main/WaterJugState.ipynb\" target=\"_parent\"><img src=\"https://colab.research.google.com/assets/colab-badge.svg\" alt=\"Open In Colab\"/></a>"
      ]
    },
    {
      "cell_type": "markdown",
      "source": [
        "WaterJugState"
      ],
      "metadata": {
        "id": "8drv5yTmkho0"
      }
    },
    {
      "cell_type": "code",
      "source": [
        "class WaterJugState:\n",
        "    def __init__(self, jug1, jug2):\n",
        "        self.jug1 = jug1\n",
        "        self.jug2 = jug2\n",
        "\n",
        "    def __eq__(self, other):\n",
        "        return self.jug1 == other.jug1 and self.jug2 == other.jug2\n",
        "\n",
        "    def __hash__(self):\n",
        "        return hash((self.jug1, self.jug2))\n",
        "\n",
        "def dfs(current_state, visited, jug1_capacity, jug2_capacity, target_volume):\n",
        "    if current_state.jug1 == target_volume or current_state.jug2 == target_volume:\n",
        "        if current_state.jug1 == target_volume :\n",
        "        \tprint(\"Jug 1 now has\", target_volume, \"liters.\")\n",
        "        else:\n",
        "        \tprint(\"Jug 2 now has\", target_volume, \"liters.\")\n",
        "        return True\n",
        "\n",
        "    visited.add(current_state)\n",
        "\n",
        "    operations = [\n",
        "        ('Fill Jug 1', jug1_capacity, current_state.jug2),\n",
        "        ('Fill Jug 2', current_state.jug1, jug2_capacity),\n",
        "        ('Empty Jug 1', 0, current_state.jug2),\n",
        "        ('Empty Jug 2', current_state.jug1, 0),\n",
        "        ('Pour Jug 1 to Jug 2',\n",
        "            max(0, current_state.jug1 + current_state.jug2 - jug2_capacity),\n",
        "            min(jug2_capacity, current_state.jug1 + current_state.jug2)),\n",
        "        ('Pour Jug 2 to Jug 1',\n",
        "            min(jug1_capacity, current_state.jug1 + current_state.jug2),\n",
        "            max(0, current_state.jug1 + current_state.jug2 - jug1_capacity))\n",
        "    ]\n",
        "\n",
        "    for operation in operations:\n",
        "        action, new_jug1, new_jug2 = operation\n",
        "        new_state = WaterJugState(new_jug1, new_jug2)\n",
        "\n",
        "        if new_state not in visited:\n",
        "            print(f\"Trying: {action} => ({new_jug1}, {new_jug2})\")\n",
        "            if dfs(new_state, visited, jug1_capacity, jug2_capacity, target_volume):\n",
        "                return True\n",
        "    return False\n",
        "\n",
        "def solve_water_jug_problem(jug1_capacity, jug2_capacity, target_volume):\n",
        "    initial_state = WaterJugState(0, 0)\n",
        "    visited = set()\n",
        "\n",
        "    if dfs(initial_state, visited, jug1_capacity, jug2_capacity, target_volume):\n",
        "        print(\"Solution found!\")\n",
        "    else:\n",
        "        print(\"Solution not possible.\")\n",
        "\n",
        "jug1_capacity = int(input(\"Enter Jug 1 capacity : \"))\n",
        "jug2_capacity = int(input(\"Enter Jug 2 capacity : \"))\n",
        "target_volume = int(input(\"Enter Target Volume : \"))\n",
        "\n",
        "print(f\"Solving Water Jug Problem with capacities ({jug1_capacity}, {jug2_capacity}) to measure {target_volume} liters.\")\n",
        "solve_water_jug_problem(jug1_capacity, jug2_capacity, target_volume)"
      ],
      "metadata": {
        "colab": {
          "base_uri": "https://localhost:8080/"
        },
        "id": "bp1KkyTmf5Kp",
        "outputId": "4f524d16-6b61-4008-bba9-907221994746"
      },
      "execution_count": null,
      "outputs": [
        {
          "output_type": "stream",
          "name": "stdout",
          "text": [
            "Enter Jug 1 capacity : 5\n",
            "Enter Jug 2 capacity : 3\n",
            "Enter Target Volume : 4\n",
            "Solving Water Jug Problem with capacities (5, 3) to measure 4 liters.\n",
            "Trying: Fill Jug 1 => (5, 0)\n",
            "Trying: Fill Jug 2 => (5, 3)\n",
            "Trying: Empty Jug 1 => (0, 3)\n",
            "Trying: Pour Jug 2 to Jug 1 => (3, 0)\n",
            "Trying: Fill Jug 2 => (3, 3)\n",
            "Trying: Pour Jug 2 to Jug 1 => (5, 1)\n",
            "Trying: Empty Jug 1 => (0, 1)\n",
            "Trying: Pour Jug 2 to Jug 1 => (1, 0)\n",
            "Trying: Fill Jug 2 => (1, 3)\n",
            "Trying: Pour Jug 2 to Jug 1 => (4, 0)\n",
            "Jug 1 now has 4 liters.\n",
            "Solution found!\n"
          ]
        }
      ]
    }
  ]
}